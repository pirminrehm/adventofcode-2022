{
 "cells": [
  {
   "cell_type": "code",
   "execution_count": 172,
   "metadata": {
    "collapsed": true
   },
   "outputs": [],
   "source": [
    "import numpy as np\n",
    "import re\n",
    "import math\n",
    "import sys\n",
    "from copy import deepcopy\n",
    "np.set_printoptions(suppress=True,linewidth=np.nan,threshold=sys.maxsize)"
   ]
  },
  {
   "cell_type": "code",
   "execution_count": 173,
   "metadata": {},
   "outputs": [
    {
     "data": {
      "text/plain": [
       "144"
      ]
     },
     "execution_count": 173,
     "metadata": {},
     "output_type": "execute_result"
    }
   ],
   "source": [
    "f = open(\"../input/day10.txt\",\"r\")\n",
    "lines = f.read().splitlines()\n",
    "lines_iter = iter(lines)\n",
    "len(lines)"
   ]
  },
  {
   "cell_type": "code",
   "execution_count": 174,
   "metadata": {},
   "outputs": [],
   "source": [
    "cycle_check = [20, 60, 100, 140, 180, 220]"
   ]
  },
  {
   "cell_type": "code",
   "execution_count": 175,
   "metadata": {},
   "outputs": [],
   "source": [
    "X = 1\n",
    "cycle = 1\n",
    "strength = 0\n",
    "\n",
    "for line in lines:\n",
    "    for i in range(2):\n",
    "        if cycle in cycle_check:\n",
    "            strength += cycle * X\n",
    "            \n",
    "        if line == \"noop\":\n",
    "            cycle += 1\n",
    "            break\n",
    "\n",
    "        if i == 1:\n",
    "            X += int(re.match(r\"addx (-?\\d+)\", line).group(1))\n",
    "        cycle += 1\n",
    "\n"
   ]
  },
  {
   "cell_type": "code",
   "execution_count": 176,
   "metadata": {},
   "outputs": [],
   "source": [
    "# strength"
   ]
  },
  {
   "cell_type": "code",
   "execution_count": 177,
   "metadata": {},
   "outputs": [],
   "source": [
    "X = 1\n",
    "cycle = 0\n",
    "image = np.chararray(240)\n",
    "image.fill('.')\n",
    "\n",
    "\n",
    "for line in lines:\n",
    "    for i in range(2):\n",
    "        if cycle % 40 in [X-1, X, X+1]:\n",
    "            image[cycle] = '#'\n",
    "\n",
    "        if line == \"noop\":\n",
    "            cycle += 1\n",
    "            break\n",
    "\n",
    "        if i == 1:\n",
    "            X += int(re.match(r\"addx (-?\\d+)\", line).group(1))\n",
    "            \n",
    "        cycle += 1"
   ]
  },
  {
   "cell_type": "code",
   "execution_count": 178,
   "metadata": {},
   "outputs": [],
   "source": [
    "def nice_print(img):\n",
    "    img = img.reshape((6,40))\n",
    "    for row in img:\n",
    "        print(row.tobytes())"
   ]
  },
  {
   "cell_type": "code",
   "execution_count": 179,
   "metadata": {},
   "outputs": [],
   "source": [
    "# nice_print(image)"
   ]
  }
 ],
 "metadata": {
  "kernelspec": {
   "display_name": "Python 3.9.15 ('py39')",
   "language": "python",
   "name": "python3"
  },
  "language_info": {
   "codemirror_mode": {
    "name": "ipython",
    "version": 3
   },
   "file_extension": ".py",
   "mimetype": "text/x-python",
   "name": "python",
   "nbconvert_exporter": "python",
   "pygments_lexer": "ipython3",
   "version": "3.9.15"
  },
  "vscode": {
   "interpreter": {
    "hash": "b2e9f9008725dd23caa923c816518e3b0196341f10d73fc2172efb766a67f165"
   }
  }
 },
 "nbformat": 4,
 "nbformat_minor": 2
}

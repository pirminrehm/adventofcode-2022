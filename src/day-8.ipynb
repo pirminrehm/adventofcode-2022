{
 "cells": [
  {
   "cell_type": "code",
   "execution_count": 250,
   "metadata": {
    "collapsed": true
   },
   "outputs": [],
   "source": [
    "import numpy as np\n",
    "import re\n",
    "import sys\n",
    "np.set_printoptions(threshold=sys.maxsize)"
   ]
  },
  {
   "cell_type": "code",
   "execution_count": 251,
   "metadata": {},
   "outputs": [
    {
     "data": {
      "text/plain": [
       "99"
      ]
     },
     "execution_count": 251,
     "metadata": {},
     "output_type": "execute_result"
    }
   ],
   "source": [
    "f = open(\"../input/day8.txt\",\"r\")\n",
    "lines = f.read().splitlines()\n",
    "len(lines)"
   ]
  },
  {
   "cell_type": "code",
   "execution_count": 252,
   "metadata": {},
   "outputs": [
    {
     "name": "stdout",
     "output_type": "stream",
     "text": [
      "[[3 0 0 0 3 0 2 1 3 2 1 3 1 1 3 2 4 0 2 3 4 2 1 0 2 0 3 3 3 0 1 5 3 1 2 4\n",
      "  5 4 1 1 5 1 0 0 3 0 1 5 4 5 6 3 1 2 3 1 2 4 4 2 5 2 4 5 3 1 4 0 5 5 3 3\n",
      "  5 4 2 4 5 0 1 1 1 4 4 3 3 1 2 1 0 3 1 1 0 2 2 0 2 1 1]]\n"
     ]
    }
   ],
   "source": [
    "grid = np.array([[int(n) for n in x] for x in lines])\n",
    "print(grid[:1])"
   ]
  },
  {
   "cell_type": "code",
   "execution_count": 253,
   "metadata": {},
   "outputs": [],
   "source": [
    "def mark_visible_trees_in_row(grid, marker_grid):\n",
    "    for row_i in range(len(grid)):\n",
    "        row = grid[row_i]\n",
    "\n",
    "        current_max = -1\n",
    "        for i in range(len(row)):\n",
    "            if row[i] > current_max:\n",
    "                current_max = row[i]\n",
    "                marker_grid[row_i][i] = 1\n",
    "\n",
    "        current_max = -1\n",
    "        for i in range(len(row)-1 , -1 , -1):\n",
    "            if row[i] > current_max:\n",
    "                current_max = row[i]\n",
    "                marker_grid[row_i][i] = 1\n",
    "\n",
    "    return marker_grid"
   ]
  },
  {
   "cell_type": "code",
   "execution_count": 254,
   "metadata": {},
   "outputs": [],
   "source": [
    "grid_visible = mark_visible_trees_in_row(grid, np.zeros(grid.shape))\n",
    "grid_visible_t = mark_visible_trees_in_row(grid.transpose(), grid_visible.transpose())\n",
    "grid_visible_trees = grid_visible_t.transpose()"
   ]
  },
  {
   "cell_type": "code",
   "execution_count": 255,
   "metadata": {},
   "outputs": [],
   "source": [
    "# print(grid_visible_trees.sum())"
   ]
  },
  {
   "cell_type": "code",
   "execution_count": 256,
   "metadata": {},
   "outputs": [],
   "source": [
    "rows_c = len(grid)\n",
    "cols_c = len(grid[0])\n",
    "\n",
    "grid_scenic = np.zeros(grid.shape, dtype=int)\n",
    "\n",
    "for row_i in range(rows_c):\n",
    "\n",
    "    for col_i in range(cols_c):\n",
    "        val = grid[row_i][col_i]\n",
    "\n",
    "        scenic_l = 1\n",
    "        for i in range(col_i - 1, 0, -1):\n",
    "            if grid[row_i][i] >= val:\n",
    "                break\n",
    "            scenic_l += 1\n",
    "\n",
    "        scenic_r = 1\n",
    "        for i in range(col_i + 1, cols_c -1, 1):\n",
    "            if grid[row_i][i] >= val:\n",
    "                break\n",
    "            scenic_r += 1\n",
    "        \n",
    "        scenic_t = 1\n",
    "        for i in range(row_i - 1, 0, -1):\n",
    "            if grid[i][col_i] >= val:\n",
    "                break\n",
    "            scenic_t += 1\n",
    "\n",
    "        scenic_b = 1\n",
    "        for i in range(row_i + 1, rows_c -1, 1):\n",
    "            if grid[i][col_i] >= val:\n",
    "                break\n",
    "            scenic_b += 1\n",
    "    \n",
    "        grid_scenic[row_i][col_i] = scenic_l * scenic_r * scenic_t * scenic_b\n"
   ]
  },
  {
   "cell_type": "code",
   "execution_count": 257,
   "metadata": {},
   "outputs": [],
   "source": [
    "# print(grid_scenic.max())"
   ]
  }
 ],
 "metadata": {
  "kernelspec": {
   "display_name": "Python 3.9.15 ('py39')",
   "language": "python",
   "name": "python3"
  },
  "language_info": {
   "codemirror_mode": {
    "name": "ipython",
    "version": 3
   },
   "file_extension": ".py",
   "mimetype": "text/x-python",
   "name": "python",
   "nbconvert_exporter": "python",
   "pygments_lexer": "ipython3",
   "version": "3.9.15"
  },
  "vscode": {
   "interpreter": {
    "hash": "b2e9f9008725dd23caa923c816518e3b0196341f10d73fc2172efb766a67f165"
   }
  }
 },
 "nbformat": 4,
 "nbformat_minor": 2
}

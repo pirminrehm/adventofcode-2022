{
 "cells": [
  {
   "cell_type": "code",
   "execution_count": 71,
   "metadata": {
    "collapsed": true
   },
   "outputs": [],
   "source": [
    "import numpy as np\n",
    "import re\n",
    "import math\n",
    "import string\n",
    "from copy import deepcopy\n",
    "import itertools\n",
    "from IPython.display import display, clear_output\n",
    "import sys\n",
    "np.set_printoptions(suppress=True,linewidth=np.nan,threshold=sys.maxsize)"
   ]
  },
  {
   "cell_type": "code",
   "execution_count": 72,
   "metadata": {},
   "outputs": [],
   "source": [
    "f = open(\"../input/day13.txt\",\"r\")\n",
    "file = f.read()\n",
    "pairs_raw = file.split(\"\\n\\n\")\n",
    "len(pairs_raw)\n",
    "\n",
    "\n",
    "pairs_test = [   \n",
    "    \"[1,1,3,1,1]\\n[1,1,5,1,1]\",\n",
    "    \"[[1],[2,3,4]]\\n[[1],4]\",\n",
    "    \"[9]\\n[[8,7,6]]\",\n",
    "    \"[[4,4],4,4]\\n[[4,4],4,4,4]\",\n",
    "    \"[7,7,7,7]\\n[7,7,7]\",\n",
    "    \"[]\\n[3]\",\n",
    "    \"[[[]]]\\n[[]]\",\n",
    "    \"[1,[2,[3,[4,[5,6,7]]]],8,9]\\n[1,[2,[3,[4,[5,6,0]]]],8,9]\",\n",
    "]"
   ]
  },
  {
   "cell_type": "code",
   "execution_count": 73,
   "metadata": {},
   "outputs": [],
   "source": [
    "pairs = [[eval(p[0]), eval(p[1])] for p in [x.split(\"\\n\") for  x in pairs_raw]]"
   ]
  },
  {
   "cell_type": "code",
   "execution_count": 74,
   "metadata": {},
   "outputs": [],
   "source": [
    "#  0: no info; 1: left smaller; -1 right smaller\n",
    "def compare_recursive(left, right):\n",
    "    if type(left) == type(right) and type(left) == int:\n",
    "        if left == right:\n",
    "             return 0\n",
    "        if left < right:\n",
    "             return 1\n",
    "        return -1\n",
    "       \n",
    "    if type(left) != type(right):\n",
    "        left = left if type(left) is list else [left]\n",
    "        right = right if type(right) is list else [right]\n",
    "        return compare_recursive(left, right)\n",
    "\n",
    "    if type(left) == list:\n",
    "        if len(left) == 0 and len(right) == 0:\n",
    "            return 0\n",
    "        if len(left) == 0:\n",
    "            return 1\n",
    "        if len(right) == 0:\n",
    "            return -1\n",
    "\n",
    "        for i in range(len(left)):\n",
    "            if i >= len(right):\n",
    "                return -1\n",
    "\n",
    "            result = compare_recursive(left[i], right[i])\n",
    "            if result != 0:\n",
    "                return result\n",
    "        \n",
    "        if len(left) < len(right):\n",
    "            return 1\n",
    "        return 0\n",
    "  \n",
    "    raise TypeError()\n"
   ]
  },
  {
   "cell_type": "code",
   "execution_count": 75,
   "metadata": {},
   "outputs": [],
   "source": [
    "results = []\n",
    "for pair in pairs:\n",
    "    results.append(compare_recursive(pair[0], pair[1]))"
   ]
  },
  {
   "cell_type": "code",
   "execution_count": 76,
   "metadata": {},
   "outputs": [
    {
     "data": {
      "text/plain": [
       "4821"
      ]
     },
     "execution_count": 76,
     "metadata": {},
     "output_type": "execute_result"
    }
   ],
   "source": [
    "sum([i+1 for i in range(len(results)) if results[i] == 1])"
   ]
  },
  {
   "cell_type": "code",
   "execution_count": 77,
   "metadata": {},
   "outputs": [],
   "source": [
    "from functools import cmp_to_key\n",
    "pairs_raw2 = file.split(\"\\n\")\n",
    "pairs2 = [eval(p) for p in pairs_raw2 if p != \"\"]\n",
    "pairs2.append([[6]])\n",
    "pairs2.append([[2]])"
   ]
  },
  {
   "cell_type": "code",
   "execution_count": 83,
   "metadata": {},
   "outputs": [],
   "source": [
    "paris_sorted = sorted(pairs2, key=cmp_to_key(compare_recursive))\n",
    "paris_sorted.reverse()"
   ]
  },
  {
   "cell_type": "code",
   "execution_count": 90,
   "metadata": {},
   "outputs": [
    {
     "data": {
      "text/plain": [
       "21890"
      ]
     },
     "execution_count": 90,
     "metadata": {},
     "output_type": "execute_result"
    }
   ],
   "source": [
    "(1 + paris_sorted.index([[2]])) * (1 + paris_sorted.index([[6]]))"
   ]
  }
 ],
 "metadata": {
  "kernelspec": {
   "display_name": "Python 3.9.15 ('py39')",
   "language": "python",
   "name": "python3"
  },
  "language_info": {
   "codemirror_mode": {
    "name": "ipython",
    "version": 3
   },
   "file_extension": ".py",
   "mimetype": "text/x-python",
   "name": "python",
   "nbconvert_exporter": "python",
   "pygments_lexer": "ipython3",
   "version": "3.9.15"
  },
  "vscode": {
   "interpreter": {
    "hash": "b2e9f9008725dd23caa923c816518e3b0196341f10d73fc2172efb766a67f165"
   }
  }
 },
 "nbformat": 4,
 "nbformat_minor": 2
}

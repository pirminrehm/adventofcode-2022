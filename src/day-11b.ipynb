{
 "cells": [
  {
   "cell_type": "code",
   "execution_count": 60,
   "metadata": {
    "collapsed": true
   },
   "outputs": [],
   "source": [
    "import numpy as np\n",
    "import re\n",
    "import math\n",
    "import sys\n",
    "from copy import deepcopy\n",
    "np.set_printoptions(suppress=True,linewidth=np.nan,threshold=sys.maxsize)"
   ]
  },
  {
   "cell_type": "code",
   "execution_count": 61,
   "metadata": {},
   "outputs": [],
   "source": [
    "class Monkey:\n",
    "\n",
    "    def __init__(self, items: np.ndarray, operation, test_nr: int):\n",
    "        self.items = items\n",
    "        self.operation = operation\n",
    "        self.test_nr = test_nr\n",
    "        self.true_monkey: Monkey = None\n",
    "        self.false_monkey: Monkey = None\n",
    "        self.max_worried: Monkey = None\n",
    "        self.inspected_count = 0\n",
    "\n",
    "    \n",
    "    def set_true_monkey(self, true_monkey):\n",
    "        self.true_monkey = true_monkey\n",
    "    \n",
    "    def set_false_monkey(self, false_monkey):\n",
    "        self.false_monkey = false_monkey\n",
    "\n",
    "    def set_item(self, item):\n",
    "        self.items = np.append(self.items, item)\n",
    "\n",
    "    def set_max_worried(self, max_worried):\n",
    "        self.max_worried = max_worried\n",
    "\n",
    "    def play_round(self):\n",
    "          while len(self.items) > 0:\n",
    "            item = self.items[0]\n",
    "            self.items = self.items[1:]\n",
    "            self.inspected_count += 1\n",
    "\n",
    "            new = self.operation(item) % self.max_worried\n",
    "            if new % self.test_nr == 0:\n",
    "                self.true_monkey.set_item(new)\n",
    "            else:\n",
    "                self.false_monkey.set_item(new)"
   ]
  },
  {
   "cell_type": "code",
   "execution_count": 62,
   "metadata": {},
   "outputs": [
    {
     "data": {
      "text/plain": [
       "[None, None, None, None, None, None, None, None]"
      ]
     },
     "execution_count": 62,
     "metadata": {},
     "output_type": "execute_result"
    }
   ],
   "source": [
    "monkey0 = Monkey(np.array([52, 60, 85, 69, 75, 75], dtype=np.int64), lambda old: old * 17, 13)\n",
    "monkey1 = Monkey(np.array([96, 82, 61, 99, 82, 84, 85], dtype=np.int64), lambda old: old + 8 ,7)\n",
    "monkey2 = Monkey(np.array([95, 79], dtype=np.int64), lambda old: old + 6, 19)\n",
    "monkey3 = Monkey(np.array([88, 50, 82, 65, 77], dtype=np.int64), lambda old: old * 19 ,2)\n",
    "monkey4 = Monkey(np.array([66, 90, 59, 90, 87, 63, 53, 88], dtype=np.int64), lambda old: old + 7 ,5)\n",
    "monkey5 = Monkey(np.array([92, 75, 62], dtype=np.int64), lambda old: old * old ,3)\n",
    "monkey6 = Monkey(np.array([94, 86, 76, 67], dtype=np.int64), lambda old: old + 1, 11)\n",
    "monkey7 = Monkey(np.array([57], dtype=np.int64), lambda old: old + 2, 17)\n",
    "\n",
    "monkeys = [monkey0,monkey1,monkey2,monkey3,monkey4,monkey5,monkey6,monkey7]\n",
    "\n",
    "monkey0.set_true_monkey(monkey6)\n",
    "monkey0.set_false_monkey(monkey7)\n",
    "\n",
    "monkey1.set_true_monkey(monkey0)\n",
    "monkey1.set_false_monkey(monkey7)\n",
    "\n",
    "monkey2.set_true_monkey(monkey5)\n",
    "monkey2.set_false_monkey(monkey3)\n",
    "\n",
    "monkey3.set_true_monkey(monkey4)\n",
    "monkey3.set_false_monkey(monkey1)\n",
    "\n",
    "monkey4.set_true_monkey(monkey1)\n",
    "monkey4.set_false_monkey(monkey0)\n",
    "\n",
    "monkey5.set_true_monkey(monkey3)\n",
    "monkey5.set_false_monkey(monkey4)\n",
    "\n",
    "monkey6.set_true_monkey(monkey5)\n",
    "monkey6.set_false_monkey(monkey2)\n",
    "\n",
    "monkey7.set_true_monkey(monkey6)\n",
    "monkey7.set_false_monkey(monkey2)\n",
    "\n",
    "\n",
    "max_worried = np.prod([m.test_nr  for m in monkeys])\n",
    "[m.set_max_worried(max_worried) for m in monkeys]"
   ]
  },
  {
   "cell_type": "code",
   "execution_count": 63,
   "metadata": {},
   "outputs": [],
   "source": [
    "for i in range(10000):\n",
    "    for monkey in monkeys:\n",
    "        monkey.play_round()"
   ]
  },
  {
   "cell_type": "code",
   "execution_count": 64,
   "metadata": {},
   "outputs": [],
   "source": [
    "monkey_counts =  sorted([m.inspected_count for m in monkeys])\n",
    "# monkey_counts[-1] * monkey_counts[-2]"
   ]
  }
 ],
 "metadata": {
  "kernelspec": {
   "display_name": "Python 3.9.15 ('py39')",
   "language": "python",
   "name": "python3"
  },
  "language_info": {
   "codemirror_mode": {
    "name": "ipython",
    "version": 3
   },
   "file_extension": ".py",
   "mimetype": "text/x-python",
   "name": "python",
   "nbconvert_exporter": "python",
   "pygments_lexer": "ipython3",
   "version": "3.9.15"
  },
  "vscode": {
   "interpreter": {
    "hash": "b2e9f9008725dd23caa923c816518e3b0196341f10d73fc2172efb766a67f165"
   }
  }
 },
 "nbformat": 4,
 "nbformat_minor": 2
}

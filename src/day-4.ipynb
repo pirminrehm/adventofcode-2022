{
 "cells": [
  {
   "cell_type": "code",
   "execution_count": 39,
   "metadata": {
    "collapsed": true
   },
   "outputs": [],
   "source": [
    "import numpy as np"
   ]
  },
  {
   "cell_type": "code",
   "execution_count": 40,
   "metadata": {},
   "outputs": [
    {
     "data": {
      "text/plain": [
       "1000"
      ]
     },
     "execution_count": 40,
     "metadata": {},
     "output_type": "execute_result"
    }
   ],
   "source": [
    "f = open(\"../input/day4.txt\",\"r\")\n",
    "lines = f.read().splitlines()\n",
    "len(lines)"
   ]
  },
  {
   "cell_type": "code",
   "execution_count": 42,
   "metadata": {},
   "outputs": [
    {
     "name": "stdout",
     "output_type": "stream",
     "text": [
      "[[35 73]\n",
      " [35 82]]\n"
     ]
    }
   ],
   "source": [
    "parsed_lines =np.array([\n",
    "    [\n",
    "        x[0].split(\"-\"),\n",
    "        x[1].split(\"-\")\n",
    "    ] for x in [x.split(\",\") for x in lines]], int)\n",
    "\n",
    "print(parsed_lines[0])"
   ]
  },
  {
   "cell_type": "code",
   "execution_count": 45,
   "metadata": {},
   "outputs": [],
   "source": [
    "count = 0;\n",
    "for line in parsed_lines:\n",
    "\n",
    "    second_bigger = len(range(line[0][0], line[0][1])) <  len(range(line[1][0], line[1][1]))\n",
    "    a = 1 if second_bigger else 0\n",
    "    b = 1 - a\n",
    "\n",
    "    if(line[a][0] <= line[b][0] and line[a][1] >= line[b][1]):\n",
    "        count+= 1\n",
    "\n",
    "# count      "
   ]
  },
  {
   "cell_type": "code",
   "execution_count": 82,
   "metadata": {},
   "outputs": [],
   "source": [
    "count = 0;\n",
    "for line in parsed_lines:\n",
    "    if len(set(list(range(line[0][0], line[0][1] + 1))) & set(list(range(line[1][0], line[1][1] + 1)))):\n",
    "        count += 1\n",
    "\n",
    "# count      "
   ]
  }
 ],
 "metadata": {
  "kernelspec": {
   "display_name": "Python 3.9.15 ('py39')",
   "language": "python",
   "name": "python3"
  },
  "language_info": {
   "codemirror_mode": {
    "name": "ipython",
    "version": 3
   },
   "file_extension": ".py",
   "mimetype": "text/x-python",
   "name": "python",
   "nbconvert_exporter": "python",
   "pygments_lexer": "ipython3",
   "version": "3.9.15"
  },
  "vscode": {
   "interpreter": {
    "hash": "b2e9f9008725dd23caa923c816518e3b0196341f10d73fc2172efb766a67f165"
   }
  }
 },
 "nbformat": 4,
 "nbformat_minor": 2
}

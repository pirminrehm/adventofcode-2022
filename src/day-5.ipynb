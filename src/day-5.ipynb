{
 "cells": [
  {
   "cell_type": "code",
   "execution_count": 233,
   "metadata": {
    "collapsed": true
   },
   "outputs": [],
   "source": [
    "import numpy as np\n",
    "import re\n",
    "import copy"
   ]
  },
  {
   "cell_type": "code",
   "execution_count": 234,
   "metadata": {},
   "outputs": [
    {
     "data": {
      "text/plain": [
       "512"
      ]
     },
     "execution_count": 234,
     "metadata": {},
     "output_type": "execute_result"
    }
   ],
   "source": [
    "f = open(\"../input/day5.txt\",\"r\")\n",
    "lines = f.read().splitlines()\n",
    "len(lines)"
   ]
  },
  {
   "cell_type": "code",
   "execution_count": 235,
   "metadata": {},
   "outputs": [
    {
     "data": {
      "text/plain": [
       "['[D] [H] [L] [N] [N] [M] [D] [D] [B]',\n",
       " '[T] [R] [Q] [B] [D] [D] [B] [N] [N]',\n",
       " '[W] [P] [V] [S] [F] [B] [Q] [J] [H]',\n",
       " '[F] [Q]     [W] [T] [V] [J] [V] [M]',\n",
       " '[J] [T]     [R] [V] [H]     [R] [S]',\n",
       " '[S] [N]     [Q] [M] [T]     [Z]    ',\n",
       " '[H] [B]         [B] [R]     [H]    ',\n",
       " '[N] [G]                     [Q]    ']"
      ]
     },
     "execution_count": 235,
     "metadata": {},
     "output_type": "execute_result"
    }
   ],
   "source": [
    "input_stack = lines[:8]\n",
    "input_stack.reverse()\n",
    "input_stack"
   ]
  },
  {
   "cell_type": "code",
   "execution_count": 236,
   "metadata": {},
   "outputs": [
    {
     "data": {
      "text/plain": [
       "[[], [], [], [], [], [], [], [], []]"
      ]
     },
     "execution_count": 236,
     "metadata": {},
     "output_type": "execute_result"
    }
   ],
   "source": [
    "initial_stacks = [list() for x in range(1,10)]\n",
    "initial_stacks"
   ]
  },
  {
   "cell_type": "code",
   "execution_count": 237,
   "metadata": {},
   "outputs": [
    {
     "name": "stdout",
     "output_type": "stream",
     "text": [
      "[['D', 'T', 'W', 'F', 'J', 'S', 'H', 'N'], ['H', 'R', 'P', 'Q', 'T', 'N', 'B', 'G'], ['L', 'Q', 'V'], ['N', 'B', 'S', 'W', 'R', 'Q'], ['N', 'D', 'F', 'T', 'V', 'M', 'B'], ['M', 'D', 'B', 'V', 'H', 'T', 'R'], ['D', 'B', 'Q', 'J'], ['D', 'N', 'J', 'V', 'R', 'Z', 'H', 'Q'], ['B', 'N', 'H', 'M', 'S']]\n"
     ]
    }
   ],
   "source": [
    "for row in input_stack:\n",
    "    for i in range(0,9):\n",
    "        w = row[1+ i*4]\n",
    "        if not re.match(r\"\\s\", w):\n",
    "            initial_stacks[i].append(w)\n",
    "print(initial_stacks)"
   ]
  },
  {
   "cell_type": "code",
   "execution_count": 238,
   "metadata": {},
   "outputs": [
    {
     "data": {
      "text/plain": [
       "['3', '1', '2']"
      ]
     },
     "execution_count": 238,
     "metadata": {},
     "output_type": "execute_result"
    }
   ],
   "source": [
    "txt = lines[10]\n",
    "x = list(re.search(r\"move (\\d) from (\\d) to (\\d)\", txt).groups())\n",
    "list(x)"
   ]
  },
  {
   "cell_type": "code",
   "execution_count": 239,
   "metadata": {},
   "outputs": [
    {
     "data": {
      "text/plain": [
       "['4', '9', '3']"
      ]
     },
     "execution_count": 239,
     "metadata": {},
     "output_type": "execute_result"
    }
   ],
   "source": [
    "directives = list(map(lambda x: list(re.search(r\"move (\\d+) from (\\d+) to (\\d+)\", x).groups()), lines[10:]))\n",
    "directives[-1]"
   ]
  },
  {
   "cell_type": "code",
   "execution_count": 240,
   "metadata": {},
   "outputs": [],
   "source": [
    "stacks = copy.deepcopy(initial_stacks)\n",
    "\n",
    "for directive in directives:\n",
    "    get = int(directive[1]) - 1\n",
    "    to = int(directive[2]) - 1\n",
    "    for count in range(int(directive[0])):\n",
    "        el = stacks[get].pop()\n",
    "        stacks[to].append(el)\n",
    "\n",
    "\n",
    "solution = \"\"\n",
    "\n",
    "for stack in stacks:\n",
    "    solution += stack.pop()\n",
    "\n",
    "# solution  "
   ]
  },
  {
   "cell_type": "code",
   "execution_count": 241,
   "metadata": {},
   "outputs": [],
   "source": [
    "stacks2 = copy.deepcopy(initial_stacks)\n",
    "\n",
    "for directive in directives:\n",
    "    count = int(directive[0]);\n",
    "    get = int(directive[1]) - 1\n",
    "    to = int(directive[2]) - 1\n",
    "    \n",
    "    els = stacks2[get][-count:]\n",
    "    stacks2[get] = stacks2[get][:-count]\n",
    "    stacks2[to] = stacks2[to] + els\n",
    "\n",
    "\n",
    "solution2 = \"\"\n",
    "\n",
    "for stack in stacks2:\n",
    "    solution2 += stack.pop()\n",
    "\n",
    "# solution2 "
   ]
  }
 ],
 "metadata": {
  "kernelspec": {
   "display_name": "Python 3.9.15 ('py39')",
   "language": "python",
   "name": "python3"
  },
  "language_info": {
   "codemirror_mode": {
    "name": "ipython",
    "version": 3
   },
   "file_extension": ".py",
   "mimetype": "text/x-python",
   "name": "python",
   "nbconvert_exporter": "python",
   "pygments_lexer": "ipython3",
   "version": "3.9.15"
  },
  "vscode": {
   "interpreter": {
    "hash": "b2e9f9008725dd23caa923c816518e3b0196341f10d73fc2172efb766a67f165"
   }
  }
 },
 "nbformat": 4,
 "nbformat_minor": 2
}

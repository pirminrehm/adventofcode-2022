{
 "cells": [
  {
   "cell_type": "code",
   "execution_count": 2,
   "metadata": {
    "collapsed": true
   },
   "outputs": [],
   "source": [
    "import numpy as np\n",
    "# import sys\n",
    "# np.set_printoptions(threshold=sys.maxsize)"
   ]
  },
  {
   "cell_type": "code",
   "execution_count": 3,
   "metadata": {},
   "outputs": [],
   "source": [
    "f = open(\"../input/day2.txt\",\"r\")\n",
    "lines = f.read().splitlines()"
   ]
  },
  {
   "cell_type": "code",
   "execution_count": 4,
   "metadata": {},
   "outputs": [
    {
     "data": {
      "text/plain": [
       "['C', 'X']"
      ]
     },
     "execution_count": 4,
     "metadata": {},
     "output_type": "execute_result"
    }
   ],
   "source": [
    "games = list(map(lambda x: x.split(\" \"), lines))\n",
    "games[1]"
   ]
  },
  {
   "cell_type": "code",
   "execution_count": 5,
   "metadata": {},
   "outputs": [
    {
     "data": {
      "text/plain": [
       "{'A X': 4,\n",
       " 'A Y': 8,\n",
       " 'A Z': 3,\n",
       " 'B X': 1,\n",
       " 'B Y': 5,\n",
       " 'B Z': 9,\n",
       " 'C X': 7,\n",
       " 'C Y': 2,\n",
       " 'C Z': 6}"
      ]
     },
     "execution_count": 5,
     "metadata": {},
     "output_type": "execute_result"
    }
   ],
   "source": [
    "# rock     A (X)\n",
    "# Paper    B (Y)\n",
    "# Scissors C (Z)\n",
    "playbook = dict([\n",
    "    [\"A X\", 3 + 1],\n",
    "    [\"A Y\", 6 + 2],\n",
    "    [\"A Z\", 0 + 3],\n",
    "    [\"B X\", 0 + 1],\n",
    "    [\"B Y\", 3 + 2],\n",
    "    [\"B Z\", 6 + 3],\n",
    "    [\"C X\", 6 + 1],\n",
    "    [\"C Y\", 0 + 2],\n",
    "    [\"C Z\", 3 + 3],\n",
    "])\n",
    "playbook"
   ]
  },
  {
   "cell_type": "code",
   "execution_count": 6,
   "metadata": {},
   "outputs": [],
   "source": [
    "sum = 0;\n",
    "for line in lines:\n",
    "    sum += playbook[line];\n",
    "\n",
    "# sum"
   ]
  },
  {
   "cell_type": "code",
   "execution_count": 7,
   "metadata": {},
   "outputs": [
    {
     "data": {
      "text/plain": [
       "{'A X': 3,\n",
       " 'A Y': 4,\n",
       " 'A Z': 8,\n",
       " 'B X': 1,\n",
       " 'B Y': 5,\n",
       " 'B Z': 9,\n",
       " 'C X': 2,\n",
       " 'C Y': 6,\n",
       " 'C Z': 7}"
      ]
     },
     "execution_count": 7,
     "metadata": {},
     "output_type": "execute_result"
    }
   ],
   "source": [
    "ROCK = 1    # A\n",
    "PAPER = 2   # B\n",
    "SCISSOR = 3 # C\n",
    "LOOSE = 0 # x\n",
    "DRAW = 3  # y\n",
    "WIN = 6   # z\n",
    "playbook2 = dict([\n",
    "    [\"A X\", LOOSE + SCISSOR ],   # Rock\n",
    "    [\"A Y\", DRAW + ROCK],    # Rock\n",
    "    [\"A Z\", WIN + PAPER], # Rock\n",
    "    [\"B X\", LOOSE +  ROCK ], # Paper\n",
    "    [\"B Y\", DRAW + PAPER],   # Paper\n",
    "    [\"B Z\", WIN + SCISSOR],    # Paper\n",
    "    [\"C X\", LOOSE +PAPER ],    # Scissor\n",
    "    [\"C Y\", DRAW + SCISSOR], # Scissor\n",
    "    [\"C Z\", WIN + ROCK ],   # Scissor\n",
    "])\n",
    "playbook2"
   ]
  },
  {
   "cell_type": "code",
   "execution_count": 8,
   "metadata": {},
   "outputs": [],
   "source": [
    "sum2 = 0;\n",
    "for line in lines:\n",
    "    sum2 += playbook2[line];\n",
    "\n",
    " # sum2"
   ]
  }
 ],
 "metadata": {
  "kernelspec": {
   "display_name": "Python 3.9.15 ('py39')",
   "language": "python",
   "name": "python3"
  },
  "language_info": {
   "codemirror_mode": {
    "name": "ipython",
    "version": 3
   },
   "file_extension": ".py",
   "mimetype": "text/x-python",
   "name": "python",
   "nbconvert_exporter": "python",
   "pygments_lexer": "ipython3",
   "version": "3.9.15"
  },
  "vscode": {
   "interpreter": {
    "hash": "b2e9f9008725dd23caa923c816518e3b0196341f10d73fc2172efb766a67f165"
   }
  }
 },
 "nbformat": 4,
 "nbformat_minor": 2
}

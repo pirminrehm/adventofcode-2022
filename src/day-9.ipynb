{
 "cells": [
  {
   "cell_type": "code",
   "execution_count": 601,
   "metadata": {
    "collapsed": true
   },
   "outputs": [],
   "source": [
    "import numpy as np\n",
    "import re\n",
    "import math\n",
    "import sys\n",
    "from copy import deepcopy\n",
    "np.set_printoptions(suppress=True,linewidth=np.nan,threshold=sys.maxsize)"
   ]
  },
  {
   "cell_type": "code",
   "execution_count": 602,
   "metadata": {},
   "outputs": [
    {
     "data": {
      "text/plain": [
       "2000"
      ]
     },
     "execution_count": 602,
     "metadata": {},
     "output_type": "execute_result"
    }
   ],
   "source": [
    "f = open(\"../input/day9.txt\",\"r\")\n",
    "lines = f.read().splitlines()\n",
    "len(lines)"
   ]
  },
  {
   "cell_type": "code",
   "execution_count": 603,
   "metadata": {},
   "outputs": [],
   "source": [
    "lines_test = [\n",
    "\"R 4\",\n",
    "\"U 4\",\n",
    "\"L 3\",\n",
    "\"D 1\",\n",
    "\"R 4\",\n",
    "\"D 1\",\n",
    "\"L 5\",\n",
    "\"R 2\",\n",
    "]"
   ]
  },
  {
   "cell_type": "code",
   "execution_count": 604,
   "metadata": {},
   "outputs": [
    {
     "data": {
      "text/plain": [
       "[['R', '1']]"
      ]
     },
     "execution_count": 604,
     "metadata": {},
     "output_type": "execute_result"
    }
   ],
   "source": [
    "instructions = [x.split(' ') for x in lines]\n",
    "instructions[:1]"
   ]
  },
  {
   "cell_type": "code",
   "execution_count": 605,
   "metadata": {},
   "outputs": [],
   "source": [
    "marker_grid = np.zeros((1000,1000), dtype=int)"
   ]
  },
  {
   "cell_type": "code",
   "execution_count": 609,
   "metadata": {},
   "outputs": [],
   "source": [
    "def move(instr, coords):\n",
    "    if instr[0] == 'U':\n",
    "        return (coords[0] -1, coords[1])\n",
    "    if instr[0] == 'D':\n",
    "        return (coords[0] +1, coords[1])\n",
    "    if instr[0] == 'L':\n",
    "        return (coords[0], coords[1] - 1)\n",
    "    if instr[0] == 'R':\n",
    "        return (coords[0], coords[1] + 1)\n",
    "\n",
    "def pull_tail(head, tail):\n",
    "    if head[0] == tail[0]:\n",
    "        return (tail[0], int(tail[1] + (head[1] - tail[1])/2))\n",
    "    \n",
    "    if head[1] == tail[1]:\n",
    "        return (int(tail[0] + (head[0] - tail[0])/2), tail[1] )\n",
    "\n",
    "    return tuple(tail + np.clip((np.array(head) - np.array(tail)), -1, 1))\n",
    "\n",
    "def does_touch(a,b):\n",
    "    return abs(np.array(a) - np.array(b)).max() <= 1"
   ]
  },
  {
   "cell_type": "code",
   "execution_count": 610,
   "metadata": {},
   "outputs": [],
   "source": [
    "# row col\n",
    "head = (500, 500)\n",
    "tail = deepcopy(head)\n",
    "marker_grid[tail] = 1\n",
    "\n",
    "for instruction in instructions:\n",
    "    for count in range(int(instruction[1])):\n",
    "        head = move(instruction, head)\n",
    "        if does_touch(head,tail):\n",
    "            continue\n",
    "\n",
    "        tail = pull_tail(head, tail)\n",
    "        marker_grid[tail] = 1\n",
    "    "
   ]
  },
  {
   "cell_type": "code",
   "execution_count": 611,
   "metadata": {},
   "outputs": [],
   "source": [
    "# marker_grid.sum()"
   ]
  },
  {
   "cell_type": "code",
   "execution_count": 612,
   "metadata": {},
   "outputs": [],
   "source": [
    "def print_positions(shape, head , tails):\n",
    "    grid = np.zeros(shape, dtype=str)\n",
    "    grid.fill(\".\")\n",
    "    grid[head] = \"H\"\n",
    "    for i in range(len(tails)):\n",
    "        if grid[tails[i]] == \".\":\n",
    "            grid[tails[i]] = i +1\n",
    "\n",
    "    for row in grid:\n",
    "        print(row)\n"
   ]
  },
  {
   "cell_type": "code",
   "execution_count": 613,
   "metadata": {},
   "outputs": [],
   "source": [
    "# row col\n",
    "marker_grid2 = np.zeros((1000,1000), dtype=int)\n",
    "head = (500, 500)\n",
    "tails = [deepcopy(head) for x in range(0,9)]\n",
    "\n",
    "marker_grid2[tails[-1]] = 1\n",
    "\n",
    "for instruction in instructions:\n",
    "    for count in range(int(instruction[1])):\n",
    "        head = move(instruction, head)\n",
    "        prev = head\n",
    "        for i in range(len(tails)):\n",
    "            if does_touch(prev,tails[i]):\n",
    "                break\n",
    "\n",
    "            tails[i] = pull_tail(prev, tails[i])\n",
    "\n",
    "            prev = tails[i]\n",
    "\n",
    "        # print_positions(marker_grid2.shape, head , tails)\n",
    "\n",
    "    \n",
    "        marker_grid2[tails[-1]] = 1\n",
    "\n",
    "    "
   ]
  },
  {
   "cell_type": "code",
   "execution_count": 614,
   "metadata": {},
   "outputs": [],
   "source": [
    "# marker_grid2.sum()"
   ]
  }
 ],
 "metadata": {
  "kernelspec": {
   "display_name": "Python 3.9.15 ('py39')",
   "language": "python",
   "name": "python3"
  },
  "language_info": {
   "codemirror_mode": {
    "name": "ipython",
    "version": 3
   },
   "file_extension": ".py",
   "mimetype": "text/x-python",
   "name": "python",
   "nbconvert_exporter": "python",
   "pygments_lexer": "ipython3",
   "version": "3.9.15"
  },
  "vscode": {
   "interpreter": {
    "hash": "b2e9f9008725dd23caa923c816518e3b0196341f10d73fc2172efb766a67f165"
   }
  }
 },
 "nbformat": 4,
 "nbformat_minor": 2
}

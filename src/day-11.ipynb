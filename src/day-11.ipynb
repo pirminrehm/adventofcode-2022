{
 "cells": [
  {
   "cell_type": "code",
   "execution_count": 81,
   "metadata": {
    "collapsed": true
   },
   "outputs": [],
   "source": [
    "import numpy as np\n",
    "import re\n",
    "import math\n",
    "import sys\n",
    "from copy import deepcopy\n",
    "np.set_printoptions(suppress=True,linewidth=np.nan,threshold=sys.maxsize)"
   ]
  },
  {
   "cell_type": "code",
   "execution_count": 82,
   "metadata": {},
   "outputs": [],
   "source": [
    "class Monkey:\n",
    "\n",
    "    def __init__(self, items: np.ndarray, operation, test_nr: int):\n",
    "        self.items = items\n",
    "        self.operation = operation\n",
    "        self.test_nr = test_nr\n",
    "        self.true_monkey: Monkey = None\n",
    "        self.false_monkey: Monkey = None\n",
    "        self.inspected_count = 0\n",
    "\n",
    "    \n",
    "    def set_true_monkey(self, true_monkey):\n",
    "        self.true_monkey = true_monkey\n",
    "    \n",
    "    def set_false_monkey(self, false_monkey):\n",
    "        self.false_monkey = false_monkey\n",
    "\n",
    "    def set_item(self, item):\n",
    "        self.items.append(item)\n",
    "\n",
    "    def play_round(self):\n",
    "          while len(self.items) > 0:\n",
    "            item = self.items[0]\n",
    "            self.items = self.items[1:]\n",
    "            self.inspected_count += 1\n",
    "\n",
    "            new = int(self.operation(item) / 3)\n",
    "            if new % self.test_nr == 0:\n",
    "                self.true_monkey.set_item(new)\n",
    "            else:\n",
    "                self.false_monkey.set_item(new)"
   ]
  },
  {
   "cell_type": "code",
   "execution_count": 83,
   "metadata": {},
   "outputs": [],
   "source": [
    "monkey0 = Monkey([52, 60, 85, 69, 75, 75], lambda old: old * 17, 13)\n",
    "monkey1 = Monkey([96, 82, 61, 99, 82, 84, 85], lambda old: old + 8 ,7)\n",
    "monkey2 = Monkey([95, 79], lambda old: old + 6, 19)\n",
    "monkey3 = Monkey([88, 50, 82, 65, 77], lambda old: old * 19 ,2)\n",
    "monkey4 = Monkey([66, 90, 59, 90, 87, 63, 53, 88], lambda old: old + 7 ,5)\n",
    "monkey5 = Monkey([92, 75, 62], lambda old: old * old ,3)\n",
    "monkey6 = Monkey([94, 86, 76, 67], lambda old: old + 1, 11)\n",
    "monkey7 = Monkey([57], lambda old: old + 2, 17)\n",
    "\n",
    "monkeys = [monkey0,monkey1,monkey2,monkey3,monkey4,monkey5,monkey6,monkey7]\n",
    "\n",
    "\n",
    "monkey0.set_true_monkey(monkey6)\n",
    "monkey0.set_false_monkey(monkey7)\n",
    "\n",
    "monkey1.set_true_monkey(monkey0)\n",
    "monkey1.set_false_monkey(monkey7)\n",
    "\n",
    "monkey2.set_true_monkey(monkey5)\n",
    "monkey2.set_false_monkey(monkey3)\n",
    "\n",
    "monkey3.set_true_monkey(monkey4)\n",
    "monkey3.set_false_monkey(monkey1)\n",
    "\n",
    "monkey4.set_true_monkey(monkey1)\n",
    "monkey4.set_false_monkey(monkey0)\n",
    "\n",
    "monkey5.set_true_monkey(monkey3)\n",
    "monkey5.set_false_monkey(monkey4)\n",
    "\n",
    "monkey6.set_true_monkey(monkey5)\n",
    "monkey6.set_false_monkey(monkey2)\n",
    "\n",
    "monkey7.set_true_monkey(monkey6)\n",
    "monkey7.set_false_monkey(monkey2)"
   ]
  },
  {
   "cell_type": "code",
   "execution_count": 84,
   "metadata": {},
   "outputs": [],
   "source": [
    "for i in range(20):\n",
    "    for monkey in monkeys:\n",
    "        monkey.play_round()"
   ]
  },
  {
   "cell_type": "code",
   "execution_count": 85,
   "metadata": {},
   "outputs": [],
   "source": [
    "monkey_counts =  sorted([m.inspected_count for m in monkeys])\n",
    "# monkey_counts[-1] * monkey_counts[-2]"
   ]
  }
 ],
 "metadata": {
  "kernelspec": {
   "display_name": "Python 3.9.15 ('py39')",
   "language": "python",
   "name": "python3"
  },
  "language_info": {
   "codemirror_mode": {
    "name": "ipython",
    "version": 3
   },
   "file_extension": ".py",
   "mimetype": "text/x-python",
   "name": "python",
   "nbconvert_exporter": "python",
   "pygments_lexer": "ipython3",
   "version": "3.9.15"
  },
  "vscode": {
   "interpreter": {
    "hash": "b2e9f9008725dd23caa923c816518e3b0196341f10d73fc2172efb766a67f165"
   }
  }
 },
 "nbformat": 4,
 "nbformat_minor": 2
}

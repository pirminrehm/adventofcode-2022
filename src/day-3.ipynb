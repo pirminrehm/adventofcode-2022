{
 "cells": [
  {
   "cell_type": "code",
   "execution_count": 73,
   "metadata": {
    "collapsed": true
   },
   "outputs": [],
   "source": [
    "import numpy as np\n",
    "import string"
   ]
  },
  {
   "cell_type": "code",
   "execution_count": 31,
   "metadata": {},
   "outputs": [
    {
     "data": {
      "text/plain": [
       "300"
      ]
     },
     "execution_count": 31,
     "metadata": {},
     "output_type": "execute_result"
    }
   ],
   "source": [
    "f = open(\"../input/day3.txt\",\"r\")\n",
    "lines = f.read().splitlines()\n",
    "len(lines)"
   ]
  },
  {
   "cell_type": "code",
   "execution_count": 30,
   "metadata": {},
   "outputs": [
    {
     "name": "stdout",
     "output_type": "stream",
     "text": [
      "[['B', 'c', 'B', 'G', 'c', 'Q', 'z', 'V', 'B', 'V', 'Z', 'c', 'v', 'z', 'n', 'T', 'T', 'T', 'v', 'Z', 'c', 'G', 'T'], ['p', 'C', 'R', 'R', 'R', 'f', 'R', 'C', 'g', 'g', 'L', 'f', 'l', 'H', 'l', 'h', 'h', 'C', 'Z', 'p', 'Z', 'C', 'j']]\n"
     ]
    }
   ],
   "source": [
    "rucksacks = list(map(lambda x: [ list(x[:len(x)//2]), list(x[len(x)//2:]) ], lines))\n",
    "print(rucksacks[1])"
   ]
  },
  {
   "cell_type": "code",
   "execution_count": 35,
   "metadata": {},
   "outputs": [
    {
     "name": "stdout",
     "output_type": "stream",
     "text": [
      "{'a': 1, 'b': 2, 'c': 3, 'd': 4, 'e': 5, 'f': 6, 'g': 7, 'h': 8, 'i': 9, 'j': 10, 'k': 11, 'l': 12, 'm': 13, 'n': 14, 'o': 15, 'p': 16, 'q': 17, 'r': 18, 's': 19, 't': 20, 'u': 21, 'v': 22, 'w': 23, 'x': 24, 'y': 25, 'z': 26, 'A': 27, 'B': 28, 'C': 29, 'D': 30, 'E': 31, 'F': 32, 'G': 33, 'H': 34, 'I': 35, 'J': 36, 'K': 37, 'L': 38, 'M': 39, 'N': 40, 'O': 41, 'P': 42, 'Q': 43, 'R': 44, 'S': 45, 'T': 46, 'U': 47, 'V': 48, 'W': 49, 'X': 50, 'Y': 51, 'Z': 52}\n"
     ]
    }
   ],
   "source": [
    "#    Lowercase item types a through z have priorities 1 through 26.\n",
    "#    Uppercase item types A through Z have priorities 27 through 52.\n",
    "priority = dict(list(zip(list(string.ascii_letters), np.arange(1, 53, 1 ))))\n",
    "print(priority)"
   ]
  },
  {
   "cell_type": "code",
   "execution_count": 37,
   "metadata": {},
   "outputs": [],
   "source": [
    "sum = 0;\n",
    "for rucksack in rucksacks:\n",
    "    for item in rucksack[0]:\n",
    "        if item in rucksack[1]:\n",
    "            sum+= priority[item];\n",
    "            break;\n",
    "\n",
    "# sum      "
   ]
  },
  {
   "cell_type": "code",
   "execution_count": 70,
   "metadata": {},
   "outputs": [
    {
     "name": "stdout",
     "output_type": "stream",
     "text": [
      "['D', 'P', 's', 't', 'q', 'D', 'd', 'r', 's', 'q', 'd', 'D', 't', 'q', 'r', 'F', 'D', 'J', 'D', 'D', 'r', 'm', 't', 's', 'J', 'H', 'f', 'l', 'S', 'J', 'C', 'L', 'g', 'C', 'p', 'h', 'g', 'H', 'H', 'g', 'R', 'H', 'J', 'C', 'R', 'R', 'f', 'f']\n"
     ]
    }
   ],
   "source": [
    "rucksacks_flat = [list(x) for x in lines]\n",
    "print(rucksacks_flat[0])"
   ]
  },
  {
   "cell_type": "code",
   "execution_count": 72,
   "metadata": {},
   "outputs": [],
   "source": [
    "sum2 = 0;\n",
    "for i in range(0, len(rucksacks_flat),3):\n",
    "    for item in rucksacks_flat[i]:\n",
    "        if item in rucksacks_flat[i+1] and item in  rucksacks_flat[i+2]:\n",
    "            sum2+= priority[item];\n",
    "            break;\n",
    "\n",
    " # sum2"
   ]
  }
 ],
 "metadata": {
  "kernelspec": {
   "display_name": "Python 3.9.15 ('py39')",
   "language": "python",
   "name": "python3"
  },
  "language_info": {
   "codemirror_mode": {
    "name": "ipython",
    "version": 3
   },
   "file_extension": ".py",
   "mimetype": "text/x-python",
   "name": "python",
   "nbconvert_exporter": "python",
   "pygments_lexer": "ipython3",
   "version": "3.9.15"
  },
  "vscode": {
   "interpreter": {
    "hash": "b2e9f9008725dd23caa923c816518e3b0196341f10d73fc2172efb766a67f165"
   }
  }
 },
 "nbformat": 4,
 "nbformat_minor": 2
}

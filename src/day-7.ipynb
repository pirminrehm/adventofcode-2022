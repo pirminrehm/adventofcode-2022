{
 "cells": [
  {
   "cell_type": "code",
   "execution_count": 199,
   "metadata": {
    "collapsed": true
   },
   "outputs": [],
   "source": [
    "import numpy as np\n",
    "import re"
   ]
  },
  {
   "cell_type": "code",
   "execution_count": 200,
   "metadata": {},
   "outputs": [
    {
     "data": {
      "text/plain": [
       "1040"
      ]
     },
     "execution_count": 200,
     "metadata": {},
     "output_type": "execute_result"
    }
   ],
   "source": [
    "f = open(\"../input/day7.txt\",\"r\")\n",
    "lines = f.read().splitlines()\n",
    "len(lines)"
   ]
  },
  {
   "cell_type": "code",
   "execution_count": 201,
   "metadata": {},
   "outputs": [],
   "source": [
    "lines_test = [\"$ cd /\",\n",
    "\"$ ls\",\n",
    "\"dir a\",\n",
    "\"14848514 b.txt\",\n",
    "\"8504156 c.dat\",\n",
    "\"dir d\",\n",
    "\"$ cd a\",\n",
    "\"$ ls\",\n",
    "\"dir e\",\n",
    "\"29116 f\",\n",
    "\"2557 g\",\n",
    "\"62596 h.lst\",\n",
    "\"$ cd e\",\n",
    "\"$ ls\",\n",
    "\"584 i\",\n",
    "\"$ cd ..\",\n",
    "\"$ cd ..\",\n",
    "\"$ cd d\",\n",
    "\"$ ls\",\n",
    "\"4060174 j\",\n",
    "\"8033020 d.log\",\n",
    "\"5626152 d.ext\",\n",
    "\"7214296 k\",]"
   ]
  },
  {
   "cell_type": "code",
   "execution_count": 202,
   "metadata": {},
   "outputs": [],
   "source": [
    "from anytree import NodeMixin, RenderTree\n",
    "class FSNode(NodeMixin):  \n",
    "    def __init__(self, name, size=None, parent=None):\n",
    "        self.name = name\n",
    "        self.size = size\n",
    "        self.parent = parent"
   ]
  },
  {
   "cell_type": "code",
   "execution_count": 203,
   "metadata": {},
   "outputs": [],
   "source": [
    "DIR_REGEX = r\"dir (\\w+)\"\n",
    "FILE_REGEX = r\"(\\d+) ((\\w|\\.)+)\"\n",
    "CD_FOLDER = r\"\\$ cd (\\w+)\"\n",
    "CD_PARENT = r\"\\$ cd \\.\\.\""
   ]
  },
  {
   "cell_type": "code",
   "execution_count": 204,
   "metadata": {},
   "outputs": [],
   "source": [
    "root = FSNode('/')\n",
    "current = root\n",
    "\n",
    "for line in lines:\n",
    "    if re.match(r\"\\$ cd \\/\", line):\n",
    "        current = root\n",
    "        continue\n",
    "    if re.match(r\"\\$ ls\", line):\n",
    "        continue\n",
    "    if re.match(DIR_REGEX, line):\n",
    "        dirname = re.match(DIR_REGEX, line).group(1)\n",
    "        FSNode(dirname, parent=current)\n",
    "    if re.match(FILE_REGEX, line):\n",
    "        filesize, filename,_  = re.match(FILE_REGEX, line).groups()\n",
    "        FSNode(filename, filesize, parent=current)\n",
    "    if re.match(CD_FOLDER, line):\n",
    "        dirname = re.match(CD_FOLDER, line).group(1)\n",
    "        child_index = [x.name for x in current.children].index(dirname)\n",
    "        current = current.children[child_index]\n",
    "    if re.match(CD_PARENT, line):\n",
    "        current = current.parent\n"
   ]
  },
  {
   "cell_type": "code",
   "execution_count": 205,
   "metadata": {},
   "outputs": [],
   "source": [
    "at_most_100000_sum = 0\n",
    "def calc_size(node: FSNode):\n",
    "    sum = 0\n",
    "    for child in node.children:\n",
    "        child: FSNode = child\n",
    "        if child.is_leaf:\n",
    "            sum += int(child.size)\n",
    "        else:\n",
    "            sum += calc_size(child)\n",
    "            \n",
    "    node.size = sum\n",
    "    if sum < 100000 and not node.is_root:\n",
    "        global at_most_100000_sum\n",
    "        at_most_100000_sum += sum;\n",
    "\n",
    "    return node.size"
   ]
  },
  {
   "cell_type": "code",
   "execution_count": 206,
   "metadata": {},
   "outputs": [
    {
     "name": "stdout",
     "output_type": "stream",
     "text": [
      "\n"
     ]
    }
   ],
   "source": [
    "calc_size(root)\n",
    "print()\n",
    "# print(at_most_100000_sum)"
   ]
  },
  {
   "cell_type": "code",
   "execution_count": 207,
   "metadata": {},
   "outputs": [],
   "source": [
    "for pre, fill, node in RenderTree(root):\n",
    "    treestr = u\"%s%s\" % (pre, node.name)\n",
    "    # print(treestr.ljust(8), node.size)"
   ]
  },
  {
   "cell_type": "code",
   "execution_count": 208,
   "metadata": {},
   "outputs": [],
   "source": [
    "capacity = 70000000\n",
    "required = 30000000\n",
    "free = capacity - root.size\n",
    "missing = required - free\n",
    "# missing"
   ]
  },
  {
   "cell_type": "code",
   "execution_count": 209,
   "metadata": {},
   "outputs": [],
   "source": [
    "def find_best_folder(node: FSNode):\n",
    "    if node.size < missing:\n",
    "        return None\n",
    "\n",
    "    best = node.size\n",
    "    for child in node.children:\n",
    "        child: FSNode = child\n",
    "        if not child.is_leaf and child.size > missing:\n",
    "            best_folder = find_best_folder(child)\n",
    "            if best_folder and best_folder < best:\n",
    "                best = best_folder\n",
    "\n",
    "    return best"
   ]
  },
  {
   "cell_type": "code",
   "execution_count": 210,
   "metadata": {},
   "outputs": [],
   "source": [
    "# find_best_folder(root)"
   ]
  }
 ],
 "metadata": {
  "kernelspec": {
   "display_name": "Python 3.9.15 ('py39')",
   "language": "python",
   "name": "python3"
  },
  "language_info": {
   "codemirror_mode": {
    "name": "ipython",
    "version": 3
   },
   "file_extension": ".py",
   "mimetype": "text/x-python",
   "name": "python",
   "nbconvert_exporter": "python",
   "pygments_lexer": "ipython3",
   "version": "3.9.15"
  },
  "vscode": {
   "interpreter": {
    "hash": "b2e9f9008725dd23caa923c816518e3b0196341f10d73fc2172efb766a67f165"
   }
  }
 },
 "nbformat": 4,
 "nbformat_minor": 2
}

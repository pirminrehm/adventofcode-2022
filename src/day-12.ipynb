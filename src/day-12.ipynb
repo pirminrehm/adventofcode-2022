{
 "cells": [
  {
   "cell_type": "code",
   "execution_count": 199,
   "metadata": {
    "collapsed": true
   },
   "outputs": [],
   "source": [
    "import numpy as np\n",
    "import re\n",
    "import math\n",
    "import sys\n",
    "import string\n",
    "from copy import deepcopy\n",
    "import itertools\n",
    "MAX_INT16 = np.iinfo(np.int16).max;\n",
    "MAX_INT32 = np.iinfo(np.int32).max;\n",
    "from IPython.display import display, clear_output\n",
    "np.set_printoptions(suppress=True,linewidth=np.nan,threshold=sys.maxsize)"
   ]
  },
  {
   "cell_type": "code",
   "execution_count": 200,
   "metadata": {},
   "outputs": [
    {
     "data": {
      "text/plain": [
       "41"
      ]
     },
     "execution_count": 200,
     "metadata": {},
     "output_type": "execute_result"
    }
   ],
   "source": [
    "f = open(\"../input/day12.txt\",\"r\")\n",
    "lines = f.read().splitlines()\n",
    "lines_iter = iter(lines)\n",
    "len(lines)"
   ]
  },
  {
   "cell_type": "code",
   "execution_count": 201,
   "metadata": {},
   "outputs": [],
   "source": [
    "# row col\n",
    "grid = np.array([[string.ascii_letters.index(r) for r in l] for l in lines])"
   ]
  },
  {
   "cell_type": "code",
   "execution_count": 202,
   "metadata": {},
   "outputs": [],
   "source": [
    "def np_where_2d(comparison):\n",
    "     return list(zip(*np.where(comparison)))"
   ]
  },
  {
   "cell_type": "code",
   "execution_count": 203,
   "metadata": {},
   "outputs": [],
   "source": [
    "def flattern_point(point, grid):\n",
    "    return len(grid[0]) * point[0] + point[1]\n",
    "\n",
    "def deflattern_point(point_f, grid):\n",
    "    a = int(point_f / len(grid[0]))\n",
    "    b = point_f % len(grid[0]) \n",
    "    return (a,b)"
   ]
  },
  {
   "cell_type": "code",
   "execution_count": 205,
   "metadata": {},
   "outputs": [
    {
     "name": "stdout",
     "output_type": "stream",
     "text": [
      "(20, 0) 0 (20, 120) 25\n"
     ]
    }
   ],
   "source": [
    "start = np_where_2d(grid == string.ascii_letters.index(\"S\"))[0]\n",
    "grid[start] = string.ascii_letters.index(\"a\")\n",
    "end = np_where_2d(grid == string.ascii_letters.index(\"E\"))[0]\n",
    "grid[end] = string.ascii_letters.index(\"z\")\n",
    "\n",
    "end_f = flattern_point(end, grid)\n",
    "start_f = flattern_point(start, grid)\n",
    "\n",
    "print(start, grid[start], end, grid[end])"
   ]
  },
  {
   "cell_type": "code",
   "execution_count": 206,
   "metadata": {},
   "outputs": [],
   "source": [
    "def compute_heuristic_map(input_map):\n",
    "    rows = len(input_map)\n",
    "    columns = len(input_map[0])\n",
    "    heuristics = np.zeros((rows, columns), np.int32)\n",
    "    for r in range(rows):\n",
    "        for c in range(columns):\n",
    "            # heuristics[r][c] = rows -r + columns - c -2\n",
    "            heuristics[r][c] = abs(end[0] - r) + abs(end[1] - c)\n",
    "    return heuristics"
   ]
  },
  {
   "cell_type": "code",
   "execution_count": 207,
   "metadata": {},
   "outputs": [],
   "source": [
    "def list_contains(l,el):\n",
    "    return len(l[l == el]) > 0"
   ]
  },
  {
   "cell_type": "code",
   "execution_count": 208,
   "metadata": {},
   "outputs": [],
   "source": [
    "def a_star_climbing(levels_map, start, end):\n",
    "    levels_map_flat = levels_map.flatten()\n",
    "    heuristic_map = compute_heuristic_map(levels_map)\n",
    "    heuristic_flat_map = heuristic_map.flatten()\n",
    "    \n",
    "    row_length = len(levels_map[0])\n",
    "    col_length = len(levels_map)\n",
    "\n",
    "    end_f = flattern_point(end, grid)\n",
    "    start_f = flattern_point(start, grid)\n",
    "\n",
    "    # f-value, startpoint flat\n",
    "    openlist = [(0, start_f)] \n",
    "        \n",
    "    g_values_flat = np.full(col_length*row_length, 0, np.int32)\n",
    "    g_values_flat[0] = 0\n",
    "    previous_flat_map = np.full(col_length*row_length, -1, np.int32)\n",
    "    previous_flat_map[0] = 0\n",
    "    closedlist  = np.array([], np.int32)\n",
    "\n",
    "    \n",
    "    # überprüft alle Nachfolgeknoten und fügt sie der Open List hinzu, wenn entweder\n",
    "    # - der Nachfolgeknoten zum ersten Mal gefunden wird, oder\n",
    "    # - ein besserer Weg zu diesem Knoten gefunden wird\n",
    "    def expand_node(current_node):\n",
    "        nonlocal openlist\n",
    "        nonlocal closedlist\n",
    "        successors = np.array([], np.int32);\n",
    "        curr_row = int(current_node/row_length)\n",
    "        curr_col = current_node%row_length\n",
    "        if curr_row != 0:\n",
    "            successors = np.append(successors, (curr_row - 1) * row_length + curr_col)\n",
    "        if curr_row != len(levels_map)-1:\n",
    "            successors = np.append(successors, (curr_row + 1)  * row_length + curr_col)     \n",
    "        if curr_col != 0:\n",
    "            successors = np.append(successors, curr_row * row_length + curr_col -1)\n",
    "        if curr_col != len(levels_map[0]) - 1:\n",
    "            successors = np.append(successors, curr_row * row_length + curr_col + 1)       \n",
    "\n",
    "        for successor in successors:\n",
    "            # wenn der Nachfolgeknoten bereits auf der Closed List ist – tue nichts\n",
    "            if list_contains(closedlist, successor):\n",
    "                continue\n",
    "\n",
    "            # advnet of code day 12: climb only on next high\n",
    "            if (levels_map_flat[successor] - levels_map_flat[current_node]) > 1:\n",
    "                continue\n",
    "\n",
    "            # g-Wert für den neuen Weg berechnen: g-Wert des Vorgängers plus\n",
    "            # die Kosten der gerade benutzten Kante\n",
    "            tentative_g = g_values_flat[current_node] + levels_map_flat[current_node]\n",
    "            \n",
    "            # wenn der Nachfolgeknoten bereits auf der Open List ist,\n",
    "            # aber der neue Weg nicht besser ist als der alte – tue nichts\n",
    "            openlist_succ_index = [i for i, x in enumerate(openlist) if x[1] == successor]\n",
    "\n",
    "            if len(openlist_succ_index) and tentative_g >= g_values_flat[successor]:\n",
    "                continue\n",
    "    \n",
    "            # Vorgängerzeiger setzen und g Wert merken oder anpassen\n",
    "            previous_flat_map[successor] = current_node\n",
    "            g_values_flat[successor] = tentative_g\n",
    "            \n",
    "            # f-Wert des Knotens in der Open List aktualisieren\n",
    "                \n",
    "            # bzw. Knoten mit f-Wert in die Open List einfügen\n",
    "            f = tentative_g + heuristic_flat_map[successor]\n",
    "\n",
    "            if not len(openlist_succ_index): \n",
    "                openlist.append((f, successor))\n",
    "                openlist.sort(reverse=True)\n",
    "            else:\n",
    "                openlist[openlist_succ_index[0]] = (f, successor)\n",
    "\n",
    "            \n",
    "    # diese Schleife wird durchlaufen bis entweder\n",
    "    # - die optimale Lösung gefunden wurde oder\n",
    "    # - feststeht, dass keine Lösung existiert\n",
    "    while len(openlist) != 0:        \n",
    "        # Knoten mit dem geringsten f-Wert aus der Open List entfernen\n",
    "        current_node_f = openlist.pop()\n",
    "        \n",
    "        # Wurde das Ziel gefunden?\n",
    "        if current_node_f[1] == end_f:\n",
    "            current_node = deflattern_point(current_node_f[1], grid)\n",
    "            return True, previous_flat_map, current_node\n",
    "        \n",
    "        # Der aktuelle Knoten soll durch nachfolgende Funktionen\n",
    "        # nicht weiter untersucht werden, damit keine Zyklen entstehen\n",
    "        closedlist = np.append(closedlist, current_node_f[1])\n",
    "        \n",
    "        # Wenn das Ziel noch nicht gefunden wurde: Nachfolgeknoten\n",
    "        # des aktuellen Knotens auf die Open List setzen\n",
    "        expand_node(current_node_f[1])\n",
    "    \n",
    "    # die Open List ist leer, es existiert kein Pfad zum Ziel\n",
    "    current_node = deflattern_point(current_node_f[1], grid)\n",
    "    return False, previous_flat_map, current_node"
   ]
  },
  {
   "cell_type": "code",
   "execution_count": 209,
   "metadata": {},
   "outputs": [],
   "source": [
    "def mark_previous(p_map, start, curr):\n",
    "    while True:\n",
    "        if curr == start:\n",
    "            return p_map\n",
    "        previous = p_map[curr]\n",
    "        p_map[curr] = -9\n",
    "        curr = previous"
   ]
  },
  {
   "cell_type": "code",
   "execution_count": 210,
   "metadata": {},
   "outputs": [],
   "source": [
    "def count_previous(p_map, start, curr, levels):\n",
    "    all_sum = 0\n",
    "    while True:\n",
    "        if curr == start:\n",
    "            return all_sum\n",
    "        previous = p_map[curr]\n",
    "        all_sum += 1\n",
    "        curr = previous"
   ]
  },
  {
   "cell_type": "code",
   "execution_count": 211,
   "metadata": {},
   "outputs": [],
   "source": [
    "def print_a_star_info(levels, p_map, start, goal, print_info=False):\n",
    "    goal_f = len(levels[0]) * goal[0] + goal[1]\n",
    "    start_f = len(levels[0]) * start[0] + start[1]\n",
    "    best_way = count_previous(p_map.copy(), start_f, goal_f, levels.flatten())\n",
    "\n",
    "    if print_info:\n",
    "        print(\"\\nbest way: \", best_way) \n",
    "        print(\"visited: \", len(p_map[p_map != -1]))\n",
    "        print(\"not visited: \", len(p_map[p_map == -1]))\n",
    "        print(mark_previous(p_map.copy(), start_f, goal_f).reshape((len(levels),len(levels[0]))))\n",
    "    return mark_previous(p_map.copy(), start_f, goal_f).reshape((len(levels),len(levels[0])))"
   ]
  },
  {
   "cell_type": "code",
   "execution_count": 212,
   "metadata": {},
   "outputs": [
    {
     "data": {
      "text/plain": [
       "468"
      ]
     },
     "execution_count": 212,
     "metadata": {},
     "output_type": "execute_result"
    }
   ],
   "source": [
    "success, previous_map_test, last_node = a_star_climbing(grid, start, end)\n",
    "if not success:\n",
    "    print(\"no solution found\")\n",
    "# _ = print_a_star_info(grid, previous_map_test, start, last_node, True)\n",
    "count_previous(previous_map_test.copy(), start_f, end_f, grid.flatten())"
   ]
  },
  {
   "cell_type": "code",
   "execution_count": 216,
   "metadata": {},
   "outputs": [
    {
     "name": "stdout",
     "output_type": "stream",
     "text": [
      "1850\n"
     ]
    }
   ],
   "source": [
    "all_a_pos = np_where_2d(grid == string.ascii_letters.index(\"a\"))\n",
    "print(len(all_a_pos))\n",
    "\n",
    "all_a_counts = []\n",
    "\n",
    "for pos in all_a_pos:\n",
    "    success, previous_map_test, last_node = a_star_climbing(grid, pos, end)\n",
    "    if success:\n",
    "        all_a_counts.append(count_previous(previous_map_test.copy(), flattern_point(pos, grid), end_f, grid.flatten()))\n"
   ]
  },
  {
   "cell_type": "code",
   "execution_count": 217,
   "metadata": {},
   "outputs": [
    {
     "data": {
      "text/plain": [
       "459"
      ]
     },
     "execution_count": 217,
     "metadata": {},
     "output_type": "execute_result"
    }
   ],
   "source": [
    "min(all_a_counts)"
   ]
  }
 ],
 "metadata": {
  "kernelspec": {
   "display_name": "Python 3.9.15 ('py39')",
   "language": "python",
   "name": "python3"
  },
  "language_info": {
   "codemirror_mode": {
    "name": "ipython",
    "version": 3
   },
   "file_extension": ".py",
   "mimetype": "text/x-python",
   "name": "python",
   "nbconvert_exporter": "python",
   "pygments_lexer": "ipython3",
   "version": "3.9.15"
  },
  "vscode": {
   "interpreter": {
    "hash": "b2e9f9008725dd23caa923c816518e3b0196341f10d73fc2172efb766a67f165"
   }
  }
 },
 "nbformat": 4,
 "nbformat_minor": 2
}

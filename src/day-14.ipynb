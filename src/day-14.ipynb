{
 "cells": [
  {
   "cell_type": "code",
   "execution_count": 551,
   "metadata": {
    "collapsed": true
   },
   "outputs": [],
   "source": [
    "import numpy as np\n",
    "import re\n",
    "import math\n",
    "import string\n",
    "from copy import deepcopy\n",
    "import itertools\n",
    "from IPython.display import display, clear_output\n",
    "import sys\n",
    "np.set_printoptions(suppress=True,linewidth=np.nan,threshold=sys.maxsize)"
   ]
  },
  {
   "cell_type": "code",
   "execution_count": 552,
   "metadata": {},
   "outputs": [],
   "source": [
    "f = open(\"../input/day14.txt\",\"r\")\n",
    "lines = f.read().split(\"\\n\")[:-1]\n",
    "len(lines)\n",
    "\n",
    "lines_test = [\n",
    "\"498,4 -> 498,6 -> 496,6\",\n",
    "\"503,4 -> 502,4 -> 502,9 -> 494,9\",\n",
    "]"
   ]
  },
  {
   "cell_type": "code",
   "execution_count": 553,
   "metadata": {},
   "outputs": [],
   "source": [
    "# row col\n",
    "rocks = [[ (int(i[1]),int(i[0])) for i in [e.split(\",\") for e in p]]  for p in [x.split(\" -> \") for x in lines]]"
   ]
  },
  {
   "cell_type": "code",
   "execution_count": 554,
   "metadata": {},
   "outputs": [],
   "source": [
    "grid = np.zeros((165, 1000), dtype=str)\n",
    "grid.fill(\".\")"
   ]
  },
  {
   "cell_type": "code",
   "execution_count": 555,
   "metadata": {},
   "outputs": [],
   "source": [
    "def nice_print(img):\n",
    "    for row in img:\n",
    "        print(\"\".join(row))"
   ]
  },
  {
   "cell_type": "code",
   "execution_count": 556,
   "metadata": {},
   "outputs": [],
   "source": [
    "def draw_rock_in_grid(rock, g):\n",
    "    for pi in range(len(rock) -1):\n",
    "        curr = rock[pi]\n",
    "        next = rock[pi+1]\n",
    "        way = np.array(next) - np.array(curr)\n",
    "\n",
    "        if (way[0] != 0 and way[1] != 0):\n",
    "            raise TypeError()\n",
    "\n",
    "        if (way[0] != 0):\n",
    "            direction = 1 if way[0] > 0 else -1\n",
    "            for ri in range(curr[0], curr[0] + way[0] + direction, direction):\n",
    "                g[ri, curr[1]] = \"#\"\n",
    "\n",
    "        if (way[1] != 0):\n",
    "            direction = 1 if way[1] > 0 else -1\n",
    "            for ci in range(curr[1], curr[1] + way[1] + direction, direction):\n",
    "                g[curr[0], ci] = \"#\"\n",
    "\n",
    "\n",
    "for rock in rocks:\n",
    "    draw_rock_in_grid(rock, grid)"
   ]
  },
  {
   "cell_type": "code",
   "execution_count": 557,
   "metadata": {},
   "outputs": [],
   "source": [
    "def fall_one_down(sand, g):\n",
    "    if g[sand[0] +1, sand[1]] == \".\":\n",
    "        return (sand[0] + 1, sand[1])\n",
    "    \n",
    "    if g[sand[0] +1, sand[1] -1] == \".\":\n",
    "        return (sand[0] + 1, sand[1] -1)\n",
    "\n",
    "    if g[sand[0] +1, sand[1] +1] == \".\":\n",
    "        return (sand[0] + 1, sand[1] +1)\n",
    "\n",
    "    return sand"
   ]
  },
  {
   "cell_type": "code",
   "execution_count": 558,
   "metadata": {},
   "outputs": [
    {
     "name": "stdout",
     "output_type": "stream",
     "text": [
      "sand is falling down\n"
     ]
    }
   ],
   "source": [
    "max_round = 10000000\n",
    "counter = 0\n",
    "\n",
    "sand_coord = (0, 500)\n",
    "\n",
    "while True and counter < max_round:\n",
    "    counter += 1\n",
    "    sand_next = fall_one_down(sand_coord, grid)\n",
    "\n",
    "    if sand_next[0] == 164:\n",
    "        print(\"sand is falling down\")\n",
    "        break\n",
    "\n",
    "    if sand_next == sand_coord:\n",
    "        grid[sand_next] = \"o\"\n",
    "        sand_coord = (0, 500)\n",
    "\n",
    "    else:\n",
    "        sand_coord = sand_next"
   ]
  },
  {
   "cell_type": "code",
   "execution_count": 559,
   "metadata": {},
   "outputs": [
    {
     "data": {
      "text/plain": [
       "1016"
      ]
     },
     "execution_count": 559,
     "metadata": {},
     "output_type": "execute_result"
    }
   ],
   "source": [
    "len(np.where(grid == \"o\")[0])"
   ]
  },
  {
   "cell_type": "code",
   "execution_count": 560,
   "metadata": {},
   "outputs": [],
   "source": [
    "grid2 = np.zeros((167, 1000), dtype=str)\n",
    "grid2.fill(\".\")\n",
    "\n",
    "\n",
    "for rock in rocks:\n",
    "    draw_rock_in_grid(rock, grid2)\n",
    "    draw_rock_in_grid([(166,0), (166,999)], grid2)\n",
    "\n",
    "\n",
    "max_round = 10000000\n",
    "counter = 0\n",
    "\n",
    "sand_coord = (0, 500)\n",
    "\n",
    "while True and counter < max_round:\n",
    "    counter += 1\n",
    "    sand_next = fall_one_down(sand_coord, grid2)\n",
    "\n",
    "    if sand_next[0] == (0, 500):\n",
    "        print(\"no sand falling\")\n",
    "        break\n",
    "\n",
    "    if sand_next == sand_coord:\n",
    "        grid2[sand_next] = \"o\"\n",
    "        sand_coord = (0, 500)\n",
    "\n",
    "    else:\n",
    "        sand_coord = sand_next"
   ]
  },
  {
   "cell_type": "code",
   "execution_count": 561,
   "metadata": {},
   "outputs": [
    {
     "data": {
      "text/plain": [
       "25402"
      ]
     },
     "execution_count": 561,
     "metadata": {},
     "output_type": "execute_result"
    }
   ],
   "source": [
    "len(np.where(grid2 == \"o\")[0])"
   ]
  }
 ],
 "metadata": {
  "kernelspec": {
   "display_name": "Python 3.9.15 ('py39')",
   "language": "python",
   "name": "python3"
  },
  "language_info": {
   "codemirror_mode": {
    "name": "ipython",
    "version": 3
   },
   "file_extension": ".py",
   "mimetype": "text/x-python",
   "name": "python",
   "nbconvert_exporter": "python",
   "pygments_lexer": "ipython3",
   "version": "3.9.15"
  },
  "vscode": {
   "interpreter": {
    "hash": "b2e9f9008725dd23caa923c816518e3b0196341f10d73fc2172efb766a67f165"
   }
  }
 },
 "nbformat": 4,
 "nbformat_minor": 2
}

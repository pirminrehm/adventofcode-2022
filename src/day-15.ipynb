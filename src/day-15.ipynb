{
 "cells": [
  {
   "cell_type": "code",
   "execution_count": 250,
   "metadata": {
    "collapsed": true
   },
   "outputs": [],
   "source": [
    "import numpy as np\n",
    "import re\n",
    "import math\n",
    "import string\n",
    "from copy import deepcopy\n",
    "import itertools\n",
    "from IPython.display import display, clear_output\n",
    "import sys\n",
    "from tqdm import tqdm\n",
    "np.set_printoptions(suppress=True,linewidth=np.nan,threshold=sys.maxsize)"
   ]
  },
  {
   "cell_type": "code",
   "execution_count": 251,
   "metadata": {},
   "outputs": [],
   "source": [
    "f = open(\"../input/day15.txt\",\"r\")\n",
    "lines = f.read().splitlines()\n",
    "len(lines)\n",
    "TARGET_Y = 2000000"
   ]
  },
  {
   "cell_type": "code",
   "execution_count": 252,
   "metadata": {},
   "outputs": [],
   "source": [
    "# TARGET_Y = 10\n",
    "lines_test = [\n",
    "\"Sensor at x=2, y=18: closest beacon is at x=-2, y=15\",\n",
    "\"Sensor at x=9, y=16: closest beacon is at x=10, y=16\",\n",
    "\"Sensor at x=13, y=2: closest beacon is at x=15, y=3\",\n",
    "\"Sensor at x=12, y=14: closest beacon is at x=10, y=16\",\n",
    "\"Sensor at x=10, y=20: closest beacon is at x=10, y=16\",\n",
    "\"Sensor at x=14, y=17: closest beacon is at x=10, y=16\",\n",
    "\"Sensor at x=8, y=7: closest beacon is at x=2, y=10\",\n",
    "\"Sensor at x=2, y=0: closest beacon is at x=2, y=10\",\n",
    "\"Sensor at x=0, y=11: closest beacon is at x=2, y=10\",\n",
    "\"Sensor at x=20, y=14: closest beacon is at x=25, y=17\",\n",
    "\"Sensor at x=17, y=20: closest beacon is at x=21, y=22\",\n",
    "\"Sensor at x=16, y=7: closest beacon is at x=15, y=3\",\n",
    "\"Sensor at x=14, y=3: closest beacon is at x=15, y=3\",\n",
    "\"Sensor at x=20, y=1: closest beacon is at x=15, y=3\",\n",
    "]"
   ]
  },
  {
   "cell_type": "code",
   "execution_count": 253,
   "metadata": {},
   "outputs": [],
   "source": [
    "positions = []\n",
    "for line in lines:\n",
    "    if(not line): continue\n",
    "    pos = list(map(int,re.match(r\"Sensor at x=(-?\\d+), y=(-?\\d+): closest beacon is at x=(-?\\d+), y=(-?\\d+)\", line).groups()))\n",
    "    positions.append([ (pos[0], pos[1]) ,  (pos[2], pos[3]) ])"
   ]
  },
  {
   "cell_type": "code",
   "execution_count": 254,
   "metadata": {},
   "outputs": [],
   "source": [
    "max_pos_x = 0\n",
    "max_pos_y = 0\n",
    "min_pos_x = 0\n",
    "min_pos_y = 0\n",
    "\n",
    "for pos in positions:\n",
    "    max_pos_x = max(pos[0][0], pos[1][0]) if max(pos[0][0], pos[1][0]) > max_pos_x else max_pos_x\n",
    "    max_pos_y = max(pos[0][1], pos[1][1]) if max(pos[0][1], pos[1][1]) > max_pos_y else max_pos_y\n",
    "    min_pos_x = min(pos[0][0], pos[1][0]) if min(pos[0][0], pos[1][0]) < min_pos_x else min_pos_x\n",
    "    min_pos_y = min(pos[0][1], pos[1][1]) if min(pos[0][1], pos[1][1]) < min_pos_y else min_pos_y\n"
   ]
  },
  {
   "cell_type": "code",
   "execution_count": 255,
   "metadata": {},
   "outputs": [
    {
     "name": "stdout",
     "output_type": "stream",
     "text": [
      "x:  0 4064129\n",
      "y:  -792661 3999960\n"
     ]
    }
   ],
   "source": [
    "print(\"x: \", min_pos_x, max_pos_x)\n",
    "print(\"y: \", min_pos_y, max_pos_y)"
   ]
  },
  {
   "cell_type": "code",
   "execution_count": 256,
   "metadata": {},
   "outputs": [],
   "source": [
    "from scipy.spatial.distance import cityblock"
   ]
  },
  {
   "cell_type": "code",
   "execution_count": 257,
   "metadata": {},
   "outputs": [
    {
     "data": {
      "text/plain": [
       "(-1554506, 4961798)"
      ]
     },
     "execution_count": 257,
     "metadata": {},
     "output_type": "execute_result"
    }
   ],
   "source": [
    "sensor_distances = []\n",
    "\n",
    "min_radius_x = 0\n",
    "max_radius_x = 0\n",
    "\n",
    "for pos in positions:\n",
    "    radius = cityblock(pos[0], pos[1])\n",
    "    sensor_distances.append(radius)\n",
    "    mi = pos[0][0] - radius\n",
    "    ma = pos[0][0] + radius\n",
    "    min_radius_x = mi if mi < min_radius_x else min_radius_x\n",
    "    max_radius_x = ma if ma > max_radius_x else max_radius_x\n",
    "\n",
    "min_radius_x, max_radius_x"
   ]
  },
  {
   "cell_type": "code",
   "execution_count": 258,
   "metadata": {},
   "outputs": [],
   "source": [
    "x_covered_ranges = []\n",
    "\n",
    "\n",
    "for i in range(len(positions)):\n",
    "    sensor = positions[i][0]\n",
    "    man_y = abs(sensor[1] - TARGET_Y)\n",
    "    max_range_x = sensor_distances[i] - man_y\n",
    "    if max_range_x < 0:\n",
    "        continue\n",
    "    x1 = sensor[0] - abs(max_range_x)\n",
    "    x2 = sensor[0] + abs(max_range_x)\n",
    "    \n",
    "    x_covered_ranges.append([x1,x2])"
   ]
  },
  {
   "cell_type": "code",
   "execution_count": 259,
   "metadata": {},
   "outputs": [],
   "source": [
    "def covered_to_final_range(covered_range):\n",
    "    ranges_raw = sorted(covered_range)\n",
    "    ranges_final =[ranges_raw[0]]\n",
    "\n",
    "    for range_raw in ranges_raw[1:]:\n",
    "        if range_raw[0] <= ranges_final[-1][1]:\n",
    "            if range_raw[1] < ranges_final[-1][1]:\n",
    "                continue\n",
    "            ranges_final[-1][1] = range_raw[1]\n",
    "        else:\n",
    "            ranges_final.append(range_raw)\n",
    "\n",
    "    return ranges_final"
   ]
  },
  {
   "cell_type": "code",
   "execution_count": 260,
   "metadata": {},
   "outputs": [
    {
     "data": {
      "text/plain": [
       "5073496"
      ]
     },
     "execution_count": 260,
     "metadata": {},
     "output_type": "execute_result"
    }
   ],
   "source": [
    "sum_ranges = 0\n",
    "for range_f in covered_to_final_range(x_covered_ranges):\n",
    "    sum_ranges += range_f[1] -  range_f[0]\n",
    "\n",
    "sum_ranges"
   ]
  },
  {
   "attachments": {},
   "cell_type": "markdown",
   "metadata": {},
   "source": [
    "### Part 2"
   ]
  },
  {
   "cell_type": "code",
   "execution_count": 261,
   "metadata": {},
   "outputs": [
    {
     "name": "stderr",
     "output_type": "stream",
     "text": [
      "100%|██████████| 4000000/4000000 [02:49<00:00, 23632.84it/s]\n"
     ]
    }
   ],
   "source": [
    "all_y_ranges = []\n",
    "\n",
    "for y in tqdm(range(4000000)):\n",
    "\n",
    "    covered_ranges = []\n",
    "    for i in range(len(positions)):\n",
    "        sensor = positions[i][0]\n",
    "        man_y = abs(sensor[1] - y)\n",
    "        max_range_x = sensor_distances[i] - man_y\n",
    "        if max_range_x < 0:\n",
    "            continue\n",
    "        x1 = sensor[0] - max_range_x\n",
    "        x2 = sensor[0] + max_range_x\n",
    "\n",
    "        covered_ranges.append([x1,x2])\n",
    "\n",
    "    all_y_ranges.append(covered_to_final_range(covered_ranges))    "
   ]
  },
  {
   "cell_type": "code",
   "execution_count": 264,
   "metadata": {},
   "outputs": [
    {
     "name": "stdout",
     "output_type": "stream",
     "text": [
      "[[-589410, 3270297], [3270299, 4077403]]\n",
      "3270298\n",
      "2638237\n",
      "13081194638237\n"
     ]
    }
   ],
   "source": [
    "for y in range(len(all_y_ranges)):\n",
    "    yr = all_y_ranges[y]\n",
    "    if len(yr) > 1:\n",
    "        print(yr)\n",
    "        print(x)\n",
    "        print(y)\n",
    "        x = int(yr[0][1] + 1)\n",
    "        sum = 4000000 * x  + y\n",
    "        print(sum)"
   ]
  }
 ],
 "metadata": {
  "kernelspec": {
   "display_name": "Python 3.9.15 ('py39')",
   "language": "python",
   "name": "python3"
  },
  "language_info": {
   "codemirror_mode": {
    "name": "ipython",
    "version": 3
   },
   "file_extension": ".py",
   "mimetype": "text/x-python",
   "name": "python",
   "nbconvert_exporter": "python",
   "pygments_lexer": "ipython3",
   "version": "3.9.15"
  },
  "vscode": {
   "interpreter": {
    "hash": "b2e9f9008725dd23caa923c816518e3b0196341f10d73fc2172efb766a67f165"
   }
  }
 },
 "nbformat": 4,
 "nbformat_minor": 2
}
